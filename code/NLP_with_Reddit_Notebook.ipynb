{
  "cells": [
    {
      "cell_type": "markdown",
      "source": [
        "# Webscraping Reddit\n",
        "---"
      ],
      "metadata": {
        "toc-hr-collapsed": false
      }
    },
    {
      "cell_type": "markdown",
      "source": [
        "## Table of Contents\n",
        "---"
      ],
      "metadata": {}
    },
    {
      "cell_type": "markdown",
      "source": [
        "* [01. Import Packages](#01.-Import-Packages)\n",
        "* [02. Webscraping Reddit](#02.-Webscraping-Reddit)\n",
        "* [03. Exploratory Data Analysis & Cleaning](#03.-Exploratory-Data-Analysis-&-Cleaning)\n",
        "    * [03.01. Getting Familiar](#03.01.-Getting-Familiar)\n",
        "    * [03.02. Visualization](#03.02.-Visualization)\n",
        "        * [- TalesFromRetail](#--TalesFromRetail)\n",
        "        * [- TalesFromRetail (w/ StopWords)](#--TalesFromRetail-(w/-StopWords))\n",
        "        * [- IDontWorkHereLady](#--IDontWorkHereLady)\n",
        "        * [- IDontWorkHereLady (w/ StopWords)](#--IDontWorkHereLady-(w/-StopWords))\n",
        "        * [- TalesFromRetail & IDontWorkHereLady (w/ StopWords)](#--TalesFromRetail-&-IDontWorkHereLady-(w/-StopWords))\n",
        "    * [03.03. Creating New `stop_words`](#03.03.-Creating-New-stop_words)\n",
        "* [04. Preprocessing Data](#04.-Preprocessing-Data)\n",
        "* [05. Modeling](#05.-Modeling)\n",
        "    * [05.01. Baseline Model](#05.01.-Baseline-Model)\n",
        "    * [05.02. Pipeline](#05.02.-Pipeline)\n",
        "        * [- Logistic Regression (CountVectorizer)](#--Logistic-Regression-(CountVectorizer))\n",
        "        * [- Multinomial Naive Bayes](#--Multinomial-Naive-Bayes)\n",
        "        * [- Logistic Regression (TFIDFVectorizer)](#--Logistic-Regression-(TFIDFVectorizer))\n",
        "        * [- Gaussian Naive Bayes](#--Gaussian-Naive-Bayes)\n",
        "    * [05.03. Modeling Conclusion](#05.03.-Modeling-Conclusion)"
      ],
      "metadata": {}
    },
    {
      "cell_type": "markdown",
      "source": [
        "## 01. Import Packages\n",
        "---"
      ],
      "metadata": {}
    },
    {
      "cell_type": "code",
      "source": [
        "import praw\n",
        "import pandas as pd\n",
        "import numpy as np\n",
        "import regex as re\n",
        "import matplotlib.pyplot as plt\n",
        "from nltk.tokenize import RegexpTokenizer\n",
        "from sklearn.model_selection import cross_val_score, train_test_split, GridSearchCV\n",
        "from sklearn.feature_extraction.text import CountVectorizer, TfidfVectorizer, TfidfTransformer\n",
        "from sklearn.feature_extraction.stop_words import ENGLISH_STOP_WORDS as english\n",
        "from sklearn.linear_model import LogisticRegression\n",
        "from sklearn.pipeline import Pipeline\n",
        "from sklearn.naive_bayes import MultinomialNB, GaussianNB\n",
        "from sklearn.feature_extraction import text\n",
        "\n",
        "%matplotlib inline"
      ],
      "outputs": [],
      "execution_count": 1,
      "metadata": {}
    },
    {
      "cell_type": "markdown",
      "source": [
        "## 02. Webscraping Reddit\n",
        "---"
      ],
      "metadata": {
        "toc-hr-collapsed": false
      }
    },
    {
      "cell_type": "markdown",
      "source": [
        "This PRAW process was adapted from the medium article found here: https://towardsdatascience.com/scraping-reddit-data-1c0af3040768"
      ],
      "metadata": {}
    },
    {
      "cell_type": "code",
      "source": [
        "# Setup Python Reddit API Wrapper (PRAW) using private client_id and private client_secret\n",
        "reddit = praw.Reddit(client_id=' ',\n",
        "                     client_secret=' ',\n",
        "                     user_agent=' ')"
      ],
      "outputs": [],
      "execution_count": 2,
      "metadata": {}
    },
    {
      "cell_type": "markdown",
      "source": [
        "For the sake of privacy (or as much of it as we can control), we will only be collecting the `title`, `body`, `subreddit`, and `url` of the posts scraped from Reddit."
      ],
      "metadata": {}
    },
    {
      "cell_type": "code",
      "source": [
        "# Setup empty lists for each subreddit\n",
        "tfr_posts = []\n",
        "idwhl_posts = []\n",
        "\n",
        "# Setting up subreddit info for the for loops\n",
        "tfr_subreddit = reddit.subreddit('TalesfromRetail')\n",
        "idwhl_subreddit = reddit.subreddit('IDontWorkHereLady')\n",
        "\n",
        "# for loops pulling aforementioned posts details and populating the above empty lists\n",
        "for post in tfr_subreddit.hot(limit=450):\n",
        "    tfr_posts.append([post.title,\n",
        "                      post.selftext,\n",
        "                      post.subreddit,\n",
        "                      post.url])\n",
        "for post in idwhl_subreddit.hot(limit=448):\n",
        "    idwhl_posts.append([post.title,\n",
        "                        post.selftext,\n",
        "                        post.subreddit,\n",
        "                        post.url])\n",
        "\n",
        "# Creating DataFrames from populated lists with 4 columns\n",
        "tfr_posts = pd.DataFrame(tfr_posts,columns=['title', 'body', 'subreddit', 'url'])\n",
        "idwhl_posts = pd.DataFrame(idwhl_posts,columns=['title', 'body', 'subreddit', 'url'])\n",
        "\n",
        "# Dropping 1st row for each DataFrame as they are discriptors for the subreddit and not user-submitted posts\n",
        "tfr_posts.drop(tfr_posts.index[0], inplace = True)\n",
        "idwhl_posts.drop(idwhl_posts.index[0], inplace = True)\n",
        "\n",
        "# Combining both DataFrames\n",
        "combined_posts = pd.concat([tfr_posts, idwhl_posts])"
      ],
      "outputs": [],
      "execution_count": 3,
      "metadata": {}
    },
    {
      "cell_type": "markdown",
      "source": [
        "We had initially aimed to collect 1,000 posts per subreddit, however, TalesFromRetail had approximately 440-450 posts, making IDontWorkHereLady account for 69% of the data - so we adjusted the `limit` to obtain as close to a 50/50 split as possible."
      ],
      "metadata": {}
    },
    {
      "cell_type": "code",
      "source": [
        "# Saving as csv\n",
        "combined_posts.to_csv('../datasets/combined.csv', index = False)"
      ],
      "outputs": [],
      "execution_count": 4,
      "metadata": {}
    },
    {
      "cell_type": "markdown",
      "source": [
        "## 03. Exploratory Data Analysis & Cleaning\n",
        "---"
      ],
      "metadata": {}
    },
    {
      "cell_type": "markdown",
      "source": [
        "### 03.01. Getting Familiar"
      ],
      "metadata": {}
    },
    {
      "cell_type": "markdown",
      "source": [
        "For this section, we will become familiar with the data that was collected and begin to make notes of any observations."
      ],
      "metadata": {}
    },
    {
      "cell_type": "code",
      "source": [
        "# Read in previously saved csv file\n",
        "data = pd.read_csv('../datasets/combined.csv')"
      ],
      "outputs": [],
      "execution_count": 5,
      "metadata": {}
    },
    {
      "cell_type": "code",
      "source": [
        "#Checking shape\n",
        "data.shape"
      ],
      "outputs": [
        {
          "output_type": "execute_result",
          "execution_count": 6,
          "data": {
            "text/plain": [
              "(893, 4)"
            ]
          },
          "metadata": {}
        }
      ],
      "execution_count": 6,
      "metadata": {}
    },
    {
      "cell_type": "markdown",
      "source": [
        "Looking through top 5 posts to ensure that they came from r/TalesFromRetail"
      ],
      "metadata": {}
    },
    {
      "cell_type": "code",
      "source": [
        "data.head()"
      ],
      "outputs": [
        {
          "output_type": "execute_result",
          "execution_count": 7,
          "data": {
            "text/html": [
              "<div>\n",
              "<style scoped>\n",
              "    .dataframe tbody tr th:only-of-type {\n",
              "        vertical-align: middle;\n",
              "    }\n",
              "\n",
              "    .dataframe tbody tr th {\n",
              "        vertical-align: top;\n",
              "    }\n",
              "\n",
              "    .dataframe thead th {\n",
              "        text-align: right;\n",
              "    }\n",
              "</style>\n",
              "<table border=\"1\" class=\"dataframe\">\n",
              "  <thead>\n",
              "    <tr style=\"text-align: right;\">\n",
              "      <th></th>\n",
              "      <th>title</th>\n",
              "      <th>body</th>\n",
              "      <th>subreddit</th>\n",
              "      <th>url</th>\n",
              "    </tr>\n",
              "  </thead>\n",
              "  <tbody>\n",
              "    <tr>\n",
              "      <td>0</td>\n",
              "      <td>Rude man wants helmet for his child</td>\n",
              "      <td>I work at a bike store and 99% of the customer...</td>\n",
              "      <td>TalesFromRetail</td>\n",
              "      <td>https://www.reddit.com/r/TalesFromRetail/comme...</td>\n",
              "    </tr>\n",
              "    <tr>\n",
              "      <td>1</td>\n",
              "      <td>A Lady Screamed in My Face For Doing My Job</td>\n",
              "      <td>Side note: This is my very first post and I’m ...</td>\n",
              "      <td>TalesFromRetail</td>\n",
              "      <td>https://www.reddit.com/r/TalesFromRetail/comme...</td>\n",
              "    </tr>\n",
              "    <tr>\n",
              "      <td>2</td>\n",
              "      <td>The Great Nightstand Debacle of 2019</td>\n",
              "      <td>I work at a home goods store that also sells s...</td>\n",
              "      <td>TalesFromRetail</td>\n",
              "      <td>https://www.reddit.com/r/TalesFromRetail/comme...</td>\n",
              "    </tr>\n",
              "    <tr>\n",
              "      <td>3</td>\n",
              "      <td>I was right... but still wrong?</td>\n",
              "      <td>I work in a hardware store. We sell thousands ...</td>\n",
              "      <td>TalesFromRetail</td>\n",
              "      <td>https://www.reddit.com/r/TalesFromRetail/comme...</td>\n",
              "    </tr>\n",
              "    <tr>\n",
              "      <td>4</td>\n",
              "      <td>Communication is key</td>\n",
              "      <td>I work for moderately priced furniture chain (...</td>\n",
              "      <td>TalesFromRetail</td>\n",
              "      <td>https://www.reddit.com/r/TalesFromRetail/comme...</td>\n",
              "    </tr>\n",
              "  </tbody>\n",
              "</table>\n",
              "</div>"
            ],
            "text/plain": [
              "                                         title  \\\n",
              "0          Rude man wants helmet for his child   \n",
              "1  A Lady Screamed in My Face For Doing My Job   \n",
              "2         The Great Nightstand Debacle of 2019   \n",
              "3              I was right... but still wrong?   \n",
              "4                         Communication is key   \n",
              "\n",
              "                                                body        subreddit  \\\n",
              "0  I work at a bike store and 99% of the customer...  TalesFromRetail   \n",
              "1  Side note: This is my very first post and I’m ...  TalesFromRetail   \n",
              "2  I work at a home goods store that also sells s...  TalesFromRetail   \n",
              "3  I work in a hardware store. We sell thousands ...  TalesFromRetail   \n",
              "4  I work for moderately priced furniture chain (...  TalesFromRetail   \n",
              "\n",
              "                                                 url  \n",
              "0  https://www.reddit.com/r/TalesFromRetail/comme...  \n",
              "1  https://www.reddit.com/r/TalesFromRetail/comme...  \n",
              "2  https://www.reddit.com/r/TalesFromRetail/comme...  \n",
              "3  https://www.reddit.com/r/TalesFromRetail/comme...  \n",
              "4  https://www.reddit.com/r/TalesFromRetail/comme...  "
            ]
          },
          "metadata": {}
        }
      ],
      "execution_count": 7,
      "metadata": {}
    },
    {
      "cell_type": "markdown",
      "source": [
        "Looking through bottom 5 posts to ensure that they came from r/IDontWorkHereLady"
      ],
      "metadata": {}
    },
    {
      "cell_type": "code",
      "source": [
        "data.tail()"
      ],
      "outputs": [
        {
          "output_type": "execute_result",
          "execution_count": 8,
          "data": {
            "text/html": [
              "<div>\n",
              "<style scoped>\n",
              "    .dataframe tbody tr th:only-of-type {\n",
              "        vertical-align: middle;\n",
              "    }\n",
              "\n",
              "    .dataframe tbody tr th {\n",
              "        vertical-align: top;\n",
              "    }\n",
              "\n",
              "    .dataframe thead th {\n",
              "        text-align: right;\n",
              "    }\n",
              "</style>\n",
              "<table border=\"1\" class=\"dataframe\">\n",
              "  <thead>\n",
              "    <tr style=\"text-align: right;\">\n",
              "      <th></th>\n",
              "      <th>title</th>\n",
              "      <th>body</th>\n",
              "      <th>subreddit</th>\n",
              "      <th>url</th>\n",
              "    </tr>\n",
              "  </thead>\n",
              "  <tbody>\n",
              "    <tr>\n",
              "      <td>888</td>\n",
              "      <td>I actually DO work here but not today and not ...</td>\n",
              "      <td>I am an apprentice in a hardware stores Garden...</td>\n",
              "      <td>IDontWorkHereLady</td>\n",
              "      <td>https://www.reddit.com/r/IDontWorkHereLady/com...</td>\n",
              "    </tr>\n",
              "    <tr>\n",
              "      <td>889</td>\n",
              "      <td>helping out</td>\n",
              "      <td>not sure if this belongs here but figured it w...</td>\n",
              "      <td>IDontWorkHereLady</td>\n",
              "      <td>https://www.reddit.com/r/IDontWorkHereLady/com...</td>\n",
              "    </tr>\n",
              "    <tr>\n",
              "      <td>890</td>\n",
              "      <td>I'm NOT a doctor, but I was an amateur gynecol...</td>\n",
              "      <td>TL:DR  Take 730 aspirin and call me next year,...</td>\n",
              "      <td>IDontWorkHereLady</td>\n",
              "      <td>https://www.reddit.com/r/IDontWorkHereLady/com...</td>\n",
              "    </tr>\n",
              "    <tr>\n",
              "      <td>891</td>\n",
              "      <td>Almost ... Almost ...</td>\n",
              "      <td>I thought I was going to have an Idontworkhere...</td>\n",
              "      <td>IDontWorkHereLady</td>\n",
              "      <td>https://www.reddit.com/r/IDontWorkHereLady/com...</td>\n",
              "    </tr>\n",
              "    <tr>\n",
              "      <td>892</td>\n",
              "      <td>Wannabe tough guy gets owned</td>\n",
              "      <td>This happened to me about four years ago, and ...</td>\n",
              "      <td>IDontWorkHereLady</td>\n",
              "      <td>https://www.reddit.com/r/IDontWorkHereLady/com...</td>\n",
              "    </tr>\n",
              "  </tbody>\n",
              "</table>\n",
              "</div>"
            ],
            "text/plain": [
              "                                                 title  \\\n",
              "888  I actually DO work here but not today and not ...   \n",
              "889                                        helping out   \n",
              "890  I'm NOT a doctor, but I was an amateur gynecol...   \n",
              "891                              Almost ... Almost ...   \n",
              "892                       Wannabe tough guy gets owned   \n",
              "\n",
              "                                                  body          subreddit  \\\n",
              "888  I am an apprentice in a hardware stores Garden...  IDontWorkHereLady   \n",
              "889  not sure if this belongs here but figured it w...  IDontWorkHereLady   \n",
              "890  TL:DR  Take 730 aspirin and call me next year,...  IDontWorkHereLady   \n",
              "891  I thought I was going to have an Idontworkhere...  IDontWorkHereLady   \n",
              "892  This happened to me about four years ago, and ...  IDontWorkHereLady   \n",
              "\n",
              "                                                   url  \n",
              "888  https://www.reddit.com/r/IDontWorkHereLady/com...  \n",
              "889  https://www.reddit.com/r/IDontWorkHereLady/com...  \n",
              "890  https://www.reddit.com/r/IDontWorkHereLady/com...  \n",
              "891  https://www.reddit.com/r/IDontWorkHereLady/com...  \n",
              "892  https://www.reddit.com/r/IDontWorkHereLady/com...  "
            ]
          },
          "metadata": {}
        }
      ],
      "execution_count": 8,
      "metadata": {}
    },
    {
      "cell_type": "markdown",
      "source": [
        "For our model's purpose, we will combine the title and the body into one (`full_post`), dropping both `title` and `body` afterwards."
      ],
      "metadata": {}
    },
    {
      "cell_type": "code",
      "source": [
        "data['full_post'] = data['title'] + ' ' + data['body']\n",
        "data.drop(columns = ['title', 'body'], inplace = True)"
      ],
      "outputs": [],
      "execution_count": 9,
      "metadata": {}
    },
    {
      "cell_type": "markdown",
      "source": [
        "And we continue looking through our data..."
      ],
      "metadata": {}
    },
    {
      "cell_type": "code",
      "source": [
        "# Checking for blanks\n",
        "data.isna().sum()"
      ],
      "outputs": [
        {
          "output_type": "execute_result",
          "execution_count": 10,
          "data": {
            "text/plain": [
              "subreddit    0\n",
              "url          0\n",
              "full_post    1\n",
              "dtype: int64"
            ]
          },
          "metadata": {}
        }
      ],
      "execution_count": 10,
      "metadata": {}
    },
    {
      "cell_type": "code",
      "source": [
        "data[data['full_post'].isna()]"
      ],
      "outputs": [
        {
          "output_type": "execute_result",
          "execution_count": 11,
          "data": {
            "text/html": [
              "<div>\n",
              "<style scoped>\n",
              "    .dataframe tbody tr th:only-of-type {\n",
              "        vertical-align: middle;\n",
              "    }\n",
              "\n",
              "    .dataframe tbody tr th {\n",
              "        vertical-align: top;\n",
              "    }\n",
              "\n",
              "    .dataframe thead th {\n",
              "        text-align: right;\n",
              "    }\n",
              "</style>\n",
              "<table border=\"1\" class=\"dataframe\">\n",
              "  <thead>\n",
              "    <tr style=\"text-align: right;\">\n",
              "      <th></th>\n",
              "      <th>subreddit</th>\n",
              "      <th>url</th>\n",
              "      <th>full_post</th>\n",
              "    </tr>\n",
              "  </thead>\n",
              "  <tbody>\n",
              "    <tr>\n",
              "      <td>701</td>\n",
              "      <td>IDontWorkHereLady</td>\n",
              "      <td>https://old.reddit.com/r/Rocknocker/comments/d...</td>\n",
              "      <td>NaN</td>\n",
              "    </tr>\n",
              "  </tbody>\n",
              "</table>\n",
              "</div>"
            ],
            "text/plain": [
              "             subreddit                                                url  \\\n",
              "701  IDontWorkHereLady  https://old.reddit.com/r/Rocknocker/comments/d...   \n",
              "\n",
              "    full_post  \n",
              "701       NaN  "
            ]
          },
          "metadata": {}
        }
      ],
      "execution_count": 11,
      "metadata": {}
    },
    {
      "cell_type": "code",
      "source": [
        "# Dropping blanks\n",
        "data.dropna(inplace = True)"
      ],
      "outputs": [],
      "execution_count": 12,
      "metadata": {}
    },
    {
      "cell_type": "code",
      "source": [
        "# Checking for blanks\n",
        "data.isna().sum()"
      ],
      "outputs": [
        {
          "output_type": "execute_result",
          "execution_count": 13,
          "data": {
            "text/plain": [
              "subreddit    0\n",
              "url          0\n",
              "full_post    0\n",
              "dtype: int64"
            ]
          },
          "metadata": {}
        }
      ],
      "execution_count": 13,
      "metadata": {}
    },
    {
      "cell_type": "markdown",
      "source": [
        "We need to reset the index in the DataFrame since it is a concatenation of two seperate DataFrames, each with their own unique index values."
      ],
      "metadata": {}
    },
    {
      "cell_type": "code",
      "source": [
        "data.reset_index(drop = True, inplace = True)"
      ],
      "outputs": [],
      "execution_count": 14,
      "metadata": {}
    },
    {
      "cell_type": "markdown",
      "source": [
        "We will overwrite the previous`combined.csv` with the changes we made so far."
      ],
      "metadata": {}
    },
    {
      "cell_type": "code",
      "source": [
        "data.to_csv('../datasets/combined.csv', index = False)"
      ],
      "outputs": [],
      "execution_count": 15,
      "metadata": {}
    },
    {
      "cell_type": "markdown",
      "source": [
        "### 03.02. Visualization"
      ],
      "metadata": {}
    },
    {
      "cell_type": "markdown",
      "source": [
        "We will take a look at the most frequent used words in both subreddits in the following order:\n",
        "- r/TalesFromRetail\n",
        "- r/TalesFromRetail with stopwords\n",
        "- r/IDontWorkHereLady\n",
        "- r/IDontWorkHereLady with stopwords\n",
        "- r/TalesFromRetail + r/IDontWorkHereLady with stopwords"
      ],
      "metadata": {}
    },
    {
      "cell_type": "code",
      "source": [
        "# Import previously saved data\n",
        "data = pd.read_csv('../datasets/combined.csv')"
      ],
      "outputs": [],
      "execution_count": 16,
      "metadata": {}
    },
    {
      "cell_type": "markdown",
      "source": [
        "#### - TalesFromRetail"
      ],
      "metadata": {}
    },
    {
      "cell_type": "code",
      "source": [
        "# Setup TalesFromRetail visualization\n",
        "nsw_cv = CountVectorizer(stop_words= None, ngram_range=(1,1))\n",
        "\n",
        "nsw_tfr_body_cv = nsw_cv.fit_transform(data[data['subreddit']=='TalesFromRetail']['full_post'])\n",
        "\n",
        "nsw_tfr_body_df = pd.DataFrame(nsw_tfr_body_cv.toarray(), columns = nsw_cv.get_feature_names())"
      ],
      "outputs": [],
      "execution_count": 17,
      "metadata": {}
    },
    {
      "cell_type": "code",
      "source": [
        "# Show Bar Chart\n",
        "plt.xlabel('Count')\n",
        "plt.ylabel('Words')\n",
        "plt.title('Most Frequent TalesFromRetail Words')\n",
        "nsw_tfr_body_df.sum().sort_values(ascending = False).head(20).sort_values(ascending = True).plot(kind = 'barh');"
      ],
      "outputs": [
        {
          "output_type": "display_data",
          "data": {
            "image/png": "[encoded data removed]",
            "text/plain": [
              "<Figure size 432x288 with 1 Axes>"
            ]
          },
          "metadata": {
            "needs_background": "light"
          }
        }
      ],
      "execution_count": 18,
      "metadata": {}
    },
    {
      "cell_type": "markdown",
      "source": [
        "Looks like these words are the most common words in the English language and not really helpful in determining the subreddit that they are located in.  We will adjust our Bar Chart using `stop_words`."
      ],
      "metadata": {}
    },
    {
      "cell_type": "markdown",
      "source": [
        "#### - TalesFromRetail (w/ StopWords)"
      ],
      "metadata": {}
    },
    {
      "cell_type": "code",
      "source": [
        "# Setup for TalesFromRetail visualization with stop words\n",
        "sw_cv = CountVectorizer(stop_words= 'english', ngram_range=(1,1))\n",
        "\n",
        "sw_tfr_body_cv = sw_cv.fit_transform(data[data['subreddit']=='TalesFromRetail']['full_post'])\n",
        "\n",
        "sw_tfr_body_df = pd.DataFrame(sw_tfr_body_cv.toarray(), columns = sw_cv.get_feature_names())"
      ],
      "outputs": [],
      "execution_count": 19,
      "metadata": {}
    },
    {
      "cell_type": "code",
      "source": [
        "# Show Bar Chart\n",
        "plt.xlabel('Count')\n",
        "plt.xticks([0, 100, 200, 300, 400, 500, 600, 700, 800, 900, 1000])\n",
        "plt.ylabel('Words')\n",
        "plt.title('Most Frequent TalesFromRetail (with StopWords)')\n",
        "sw_tfr_body_df.sum().sort_values(ascending = False).head(20).sort_values(ascending = True).plot(kind = 'barh');"
      ],
      "outputs": [
        {
          "output_type": "display_data",
          "data": {
            "image/png": "[encoded data removed]",
            "text/plain": [
              "<Figure size 432x288 with 1 Axes>"
            ]
          },
          "metadata": {
            "needs_background": "light"
          }
        }
      ],
      "execution_count": 20,
      "metadata": {}
    },
    {
      "cell_type": "markdown",
      "source": [
        "These are a more appropriate set of words.  We will continue with `IDontWorkHereLady`."
      ],
      "metadata": {}
    },
    {
      "cell_type": "markdown",
      "source": [
        "#### - IDontWorkHereLady"
      ],
      "metadata": {}
    },
    {
      "cell_type": "code",
      "source": [
        "# Setup for IDontWorkHereLady visualization\n",
        "nsw_cv = CountVectorizer(stop_words= None, ngram_range=(1,1))\n",
        "\n",
        "nsw_idwhl_body_cv = nsw_cv.fit_transform(data[data['subreddit']=='IDontWorkHereLady']['full_post'])\n",
        "\n",
        "nsw_idwhl_body_df = pd.DataFrame(nsw_idwhl_body_cv.toarray(), columns = nsw_cv.get_feature_names())"
      ],
      "outputs": [],
      "execution_count": 21,
      "metadata": {}
    },
    {
      "cell_type": "code",
      "source": [
        "# Show Bar Chart\n",
        "plt.xlabel('Count')\n",
        "plt.ylabel('Words')\n",
        "plt.title('Most Frequent IDontWorkHereLady Words')\n",
        "nsw_idwhl_body_df.sum().sort_values(ascending = False).head(20).sort_values(ascending = True).plot(kind = 'barh');"
      ],
      "outputs": [
        {
          "output_type": "display_data",
          "data": {
            "image/png": "[encoded data removed]",
            "text/plain": [
              "<Figure size 432x288 with 1 Axes>"
            ]
          },
          "metadata": {
            "needs_background": "light"
          }
        }
      ],
      "execution_count": 22,
      "metadata": {}
    },
    {
      "cell_type": "markdown",
      "source": [
        "Like TalesFromRetail before it, these words are the most common words in the English language, so we will eliminate them using `stop_words`."
      ],
      "metadata": {}
    },
    {
      "cell_type": "markdown",
      "source": [
        "#### - IDontWorkHereLady (w/ StopWords)"
      ],
      "metadata": {}
    },
    {
      "cell_type": "code",
      "source": [
        "# Setup for IDontWorkHereLady visualization with stop words\n",
        "sw_cv = CountVectorizer(stop_words= 'english', ngram_range=(1,1))\n",
        "\n",
        "sw_idwhl_body_cv = sw_cv.fit_transform(data[data['subreddit']=='IDontWorkHereLady']['full_post'])\n",
        "\n",
        "sw_idwhl_body_df = pd.DataFrame(sw_idwhl_body_cv.toarray(), columns = sw_cv.get_feature_names())"
      ],
      "outputs": [],
      "execution_count": 23,
      "metadata": {}
    },
    {
      "cell_type": "code",
      "source": [
        "# Show Bar Chart\n",
        "plt.xlabel('Count')\n",
        "plt.xticks([0, 100, 200, 300, 400, 500, 600, 700, 800, 900, 1000, 1100, 1200])\n",
        "plt.ylabel('Words')\n",
        "plt.title('Most Frequent IDontWorkHereLady Words (with StopWords)')\n",
        "sw_idwhl_body_df.sum().sort_values(ascending = False).head(20).sort_values(ascending = True).plot(kind = 'barh');"
      ],
      "outputs": [
        {
          "output_type": "display_data",
          "data": {
            "image/png": "[encoded data removed]",
            "text/plain": [
              "<Figure size 432x288 with 1 Axes>"
            ]
          },
          "metadata": {
            "needs_background": "light"
          }
        }
      ],
      "execution_count": 24,
      "metadata": {}
    },
    {
      "cell_type": "markdown",
      "source": [
        "These are a more appropriate set of words for `IDontWorkHereLady`.  Of particular interest is the word / name `karen`.  `karen` is a slang term for an antagonistic female character in popular memes. (Source: https://knowyourmeme.com/memes/karen).  This could imply that if `karen` is in your post, the you do not work in retail - thus the post belongs in the IDontWorkHereLady subreddit.  Further analysis is needed."
      ],
      "metadata": {}
    },
    {
      "cell_type": "markdown",
      "source": [
        "#### - TalesFromRetail & IDontWorkHereLady (w/ StopWords)"
      ],
      "metadata": {}
    },
    {
      "cell_type": "markdown",
      "source": [
        "Here we will dig into the most common words that are listed in both TalesFromRetail and IDontWorkHereLady subreddits.  Both subreddits have been filtered out for `stop_words`."
      ],
      "metadata": {}
    },
    {
      "cell_type": "code",
      "source": [
        "# Creating list of words found in both subreddits\n",
        "common_words = list(set(sw_tfr_body_df).intersection(set(sw_idwhl_body_df)))"
      ],
      "outputs": [],
      "execution_count": 25,
      "metadata": {}
    },
    {
      "cell_type": "markdown",
      "source": [
        "Want to quickly check for `karen` to see if it is exclusively in IDontWorkHereLady."
      ],
      "metadata": {}
    },
    {
      "cell_type": "code",
      "source": [
        "'karen' in common_words"
      ],
      "outputs": [
        {
          "output_type": "execute_result",
          "execution_count": 26,
          "data": {
            "text/plain": [
              "True"
            ]
          },
          "metadata": {}
        }
      ],
      "execution_count": 26,
      "metadata": {}
    },
    {
      "cell_type": "markdown",
      "source": [
        "Looks like we cannot imply that `karen` being in a post means that it belongs in IDontWorkHereLady as it is a common word / name in both subreaddits."
      ],
      "metadata": {}
    },
    {
      "cell_type": "code",
      "source": [
        "# Bar Chart of TalesFromRetail words found in IDontWorkHere\n",
        "plt.figure(figsize = (12,5))\n",
        "plt.ylabel('Words', fontsize = 15)\n",
        "plt.xlabel('Count', fontsize = 15)\n",
        "plt.xticks([0, 50, 100, 150, 200, 250, 300, 350, 400, 450, 500, 550, 600, 650, 700, 750, 800, 850, 900, 950, 1000, 1050])\n",
        "plt.title('Top 20 TalesFromRetail Words found in IDontWorkHereLady', fontsize = 20)\n",
        "sw_tfr_body_df[common_words].sum().sort_values(ascending = True).tail(20).plot(kind = 'barh');"
      ],
      "outputs": [
        {
          "output_type": "display_data",
          "data": {
            "image/png": "[encoded data removed]",
            "text/plain": [
              "<Figure size 864x360 with 1 Axes>"
            ]
          },
          "metadata": {
            "needs_background": "light"
          }
        }
      ],
      "execution_count": 27,
      "metadata": {}
    },
    {
      "cell_type": "code",
      "source": [
        "# Bar Chart of IDontWorkHere words found in TalesFromRetail\n",
        "plt.figure(figsize = (12,5))\n",
        "plt.ylabel('Words', fontsize = 15)\n",
        "plt.xlabel('Count', fontsize = 15)\n",
        "plt.xticks([0, 50, 100, 150, 200, 250, 300, 350, 400, 450, 500, 550, 600, 650, 700, 750, 800, 850, 900, 950, 1000, 1050, 1100, 1150, 1200])\n",
        "plt.title('Top 20 IDontWorkHereLady Words found in TalesFromRetail', fontsize = 20)\n",
        "sw_idwhl_body_df[common_words].sum().sort_values(ascending = True).tail(20).plot(kind = 'barh');"
      ],
      "outputs": [
        {
          "output_type": "display_data",
          "data": {
            "image/png": "[encoded data removed]",
            "text/plain": [
              "<Figure size 864x360 with 1 Axes>"
            ]
          },
          "metadata": {
            "needs_background": "light"
          }
        }
      ],
      "execution_count": 28,
      "metadata": {}
    },
    {
      "cell_type": "markdown",
      "source": [
        "We can see that stop words are, overall, imperative in order to properly filter out our data for analyzing as they help filter out 'noise'."
      ],
      "metadata": {}
    },
    {
      "cell_type": "markdown",
      "source": [
        "### 03.03. Creating New `stop_words`"
      ],
      "metadata": {}
    },
    {
      "cell_type": "markdown",
      "source": [
        "We learned in the visualization process that `stop_words` help filter out noise.  We also learned that the `common_words` found in both subreddits ***may not*** be useful for our models.  The thinking is that they would not help in determining where the respective post is sourced from, since the word is not exclusive to any one subreddit.  Based on this logic, we will create a new `frozenset` labeled `english` that adds `common_words` to `english`."
      ],
      "metadata": {}
    },
    {
      "cell_type": "code",
      "source": [
        "# New stop_word frozenset length should be:\n",
        "len(english) + len(common_words)"
      ],
      "outputs": [
        {
          "output_type": "execute_result",
          "execution_count": 29,
          "data": {
            "text/plain": [
              "5425"
            ]
          },
          "metadata": {}
        }
      ],
      "execution_count": 29,
      "metadata": {}
    },
    {
      "cell_type": "code",
      "source": [
        "# Combining\n",
        "new_english = text.ENGLISH_STOP_WORDS.union(common_words)"
      ],
      "outputs": [],
      "execution_count": 30,
      "metadata": {}
    },
    {
      "cell_type": "code",
      "source": [
        "# length check\n",
        "len(new_english)"
      ],
      "outputs": [
        {
          "output_type": "execute_result",
          "execution_count": 31,
          "data": {
            "text/plain": [
              "5425"
            ]
          },
          "metadata": {}
        }
      ],
      "execution_count": 31,
      "metadata": {}
    },
    {
      "cell_type": "markdown",
      "source": [
        "We can use `new_english` in our models to narrow down the features, and (hopefully) accurately predict where a post was made, given the remaining words in each respective post.  This will inform us if our previous line of though was vaild or not."
      ],
      "metadata": {}
    },
    {
      "cell_type": "markdown",
      "source": [
        "## 04. Preprocessing Data\n",
        "---"
      ],
      "metadata": {
        "toc-hr-collapsed": false
      }
    },
    {
      "cell_type": "markdown",
      "source": [
        "In this section, we will set up our data for model processing which includes converting the subreddit names into more model-friendly `0` & `1` values and spliting into training and testing data."
      ],
      "metadata": {}
    },
    {
      "cell_type": "code",
      "source": [
        "data = pd.read_csv('../datasets/combined.csv')"
      ],
      "outputs": [],
      "execution_count": 32,
      "metadata": {}
    },
    {
      "cell_type": "code",
      "source": [
        "# Checking total amount of posts per subreddit\n",
        "data['subreddit'].value_counts()"
      ],
      "outputs": [
        {
          "output_type": "execute_result",
          "execution_count": 33,
          "data": {
            "text/plain": [
              "IDontWorkHereLady    446\n",
              "TalesFromRetail      446\n",
              "Name: subreddit, dtype: int64"
            ]
          },
          "metadata": {}
        }
      ],
      "execution_count": 33,
      "metadata": {}
    },
    {
      "cell_type": "code",
      "source": [
        "# Changing subreddits to numerical values\n",
        "data['subreddit'] = data['subreddit'].map({'TalesFromRetail': int(0),\n",
        "                                           'IDontWorkHereLady': int(1)})"
      ],
      "outputs": [],
      "execution_count": 34,
      "metadata": {}
    },
    {
      "cell_type": "code",
      "source": [
        "# Checking value counts (as percentage) for both subreddits\n",
        "data['subreddit'].value_counts(normalize = True)"
      ],
      "outputs": [
        {
          "output_type": "execute_result",
          "execution_count": 35,
          "data": {
            "text/plain": [
              "1    0.5\n",
              "0    0.5\n",
              "Name: subreddit, dtype: float64"
            ]
          },
          "metadata": {}
        }
      ],
      "execution_count": 35,
      "metadata": {}
    },
    {
      "cell_type": "code",
      "source": [
        "# Setting up X, y data for modeling\n",
        "X = data['full_post']\n",
        "y = data['subreddit']"
      ],
      "outputs": [],
      "execution_count": 36,
      "metadata": {}
    },
    {
      "cell_type": "code",
      "source": [
        "# Split data into training and testing sets\n",
        "X_train, X_test, y_train, y_test = train_test_split(X,\n",
        "                                                    y,\n",
        "                                                    stratify = y)"
      ],
      "outputs": [],
      "execution_count": 37,
      "metadata": {}
    },
    {
      "cell_type": "markdown",
      "source": [
        "## 05. Modeling\n",
        "---"
      ],
      "metadata": {}
    },
    {
      "cell_type": "markdown",
      "source": [
        "### 05.01. Baseline Model"
      ],
      "metadata": {}
    },
    {
      "cell_type": "code",
      "source": [
        "# Use for baseline model\n",
        "y_test.value_counts(normalize=True)"
      ],
      "outputs": [
        {
          "output_type": "execute_result",
          "execution_count": 38,
          "data": {
            "text/plain": [
              "1    0.502242\n",
              "0    0.497758\n",
              "Name: subreddit, dtype: float64"
            ]
          },
          "metadata": {}
        }
      ],
      "execution_count": 38,
      "metadata": {}
    },
    {
      "cell_type": "markdown",
      "source": [
        "Given the above split of the aforementioned subreddits being 50/50 - and that carrying on to our y_test data (`stratify`), we will use this as our baseline model. Our interpretation is that a good model will beat the baseline of 0.5.\n",
        "\n",
        "We will leverage `pipeline` in order to iterate through multiple potential 'best' models and analyze the results."
      ],
      "metadata": {}
    },
    {
      "cell_type": "markdown",
      "source": [
        "### 05.02. Pipeline"
      ],
      "metadata": {}
    },
    {
      "cell_type": "markdown",
      "source": [
        "For this section we will work on implementing `Pipeline` in order to facilitate the rapid implementation of multiple models with different parameters.  We will use `Pipeline` to implement ContVectorizer and TFIDFVectorizer as tranformers and use Logistic Regression, Multinomial NB and Gaussian NB as our models.  We will continously iterate through various hyperparameters in order to get the best possible score for our model."
      ],
      "metadata": {}
    },
    {
      "cell_type": "markdown",
      "source": [
        "#### - Logistic Regression (CountVectorizer)"
      ],
      "metadata": {}
    },
    {
      "cell_type": "markdown",
      "source": [
        "Because our dependent variable is binary in nature (`0` or `1` as in \"is this specific word/ combination of words in this post, yes or no (`1` or `0`), we will impliment Logistic Regression to see if our Baseline Model can be beat.  CountVectorizer will breakdown each post into individual words / features for this process."
      ],
      "metadata": {}
    },
    {
      "cell_type": "code",
      "source": [
        "# Define cvec Pipeline\n",
        "pipe = Pipeline(steps = [('cvec', CountVectorizer()),\n",
        "                         ('model', LogisticRegression())])\n",
        "\n",
        "# Construct Grid Parameters\n",
        "hyperparams = {\n",
        "    'cvec__max_features': [1_000, 5_000, 10_000],\n",
        "    'cvec__stop_words':  [None, 'english', new_english],\n",
        "    'cvec__ngram_range': [(1, 2), (1, 1), (2, 2)],\n",
        "    'model__penalty': ['l1', 'l2']}\n",
        "\n",
        "# Perform Grid Search\n",
        "cvec_gs = GridSearchCV(pipe,\n",
        "                       param_grid = hyperparams,\n",
        "                       cv = 5,\n",
        "                       verbose = 3,\n",
        "                       n_jobs = -1)\n",
        "\n",
        "cvec_gs.fit(X_train, y_train)"
      ],
      "outputs": [
        {
          "output_type": "stream",
          "name": "stdout",
          "text": [
            "Fitting 5 folds for each of 54 candidates, totalling 270 fits\n"
          ]
        },
        {
          "output_type": "stream",
          "name": "stderr",
          "text": [
            "[Parallel(n_jobs=-1)]: Using backend LokyBackend with 8 concurrent workers.\n",
            "[Parallel(n_jobs=-1)]: Done  16 tasks      | elapsed:    6.9s\n",
            "[Parallel(n_jobs=-1)]: Done 112 tasks      | elapsed:   22.4s\n",
            "[Parallel(n_jobs=-1)]: Done 270 out of 270 | elapsed:   47.1s finished\n",
            "C:\\Users\\Fausto\\Anaconda3\\lib\\site-packages\\sklearn\\linear_model\\logistic.py:432: FutureWarning: Default solver will be changed to 'lbfgs' in 0.22. Specify a solver to silence this warning.\n",
            "  FutureWarning)\n"
          ]
        },
        {
          "output_type": "execute_result",
          "execution_count": 39,
          "data": {
            "text/plain": [
              "GridSearchCV(cv=5, error_score='raise-deprecating',\n",
              "             estimator=Pipeline(memory=None,\n",
              "                                steps=[('cvec',\n",
              "                                        CountVectorizer(analyzer='word',\n",
              "                                                        binary=False,\n",
              "                                                        decode_error='strict',\n",
              "                                                        dtype=<class 'numpy.int64'>,\n",
              "                                                        encoding='utf-8',\n",
              "                                                        input='content',\n",
              "                                                        lowercase=True,\n",
              "                                                        max_df=1.0,\n",
              "                                                        max_features=None,\n",
              "                                                        min_df=1,\n",
              "                                                        ngram_range=(1, 1),\n",
              "                                                        preprocessor=None,\n",
              "                                                        stop_words=None,\n",
              "                                                        strip_accents=None,\n",
              "                                                        tok...\n",
              "                         'cvec__ngram_range': [(1, 2), (1, 1), (2, 2)],\n",
              "                         'cvec__stop_words': [None, 'english',\n",
              "                                              frozenset({'00', '000', '00pm',\n",
              "                                                         '10', '100', '1000',\n",
              "                                                         '10am', '11', '12',\n",
              "                                                         '12th', '13', '14',\n",
              "                                                         '15', '16', '17',\n",
              "                                                         '1700', '18', '180',\n",
              "                                                         '19', '1pm', '1st',\n",
              "                                                         '20', '200', '2004',\n",
              "                                                         '2012', '2015', '2018',\n",
              "                                                         '2019', '20s', '21', ...})],\n",
              "                         'model__penalty': ['l1', 'l2']},\n",
              "             pre_dispatch='2*n_jobs', refit=True, return_train_score=False,\n",
              "             scoring=None, verbose=3)"
            ]
          },
          "metadata": {}
        }
      ],
      "execution_count": 39,
      "metadata": {}
    },
    {
      "cell_type": "code",
      "source": [
        "# Get Scores\n",
        "cvec_train_score = cvec_gs.score(X_train, y_train)\n",
        "print('Best train data accuracy for Logistic Regression using CountVectorizer: {:.4f}'.format(cvec_train_score))\n",
        "cvec_test_score = cvec_gs.score(X_test, y_test)\n",
        "print('Best test data accuracy for Logistic Regression using CountVectorizer: {:.4f}'.format(cvec_test_score))"
      ],
      "outputs": [
        {
          "output_type": "stream",
          "name": "stdout",
          "text": [
            "Best train data accuracy for Logistic Regression using CountVectorizer: 1.0000\n",
            "Best test data accuracy for Logistic Regression using CountVectorizer: 0.9148\n"
          ]
        }
      ],
      "execution_count": 40,
      "metadata": {}
    },
    {
      "cell_type": "code",
      "source": [
        "# Getting best parameters\n",
        "cvec_gs.best_params_"
      ],
      "outputs": [
        {
          "output_type": "execute_result",
          "execution_count": 41,
          "data": {
            "text/plain": [
              "{'cvec__max_features': 5000,\n",
              " 'cvec__ngram_range': (1, 2),\n",
              " 'cvec__stop_words': None,\n",
              " 'model__penalty': 'l2'}"
            ]
          },
          "metadata": {}
        }
      ],
      "execution_count": 41,
      "metadata": {}
    },
    {
      "cell_type": "markdown",
      "source": [
        "Through various iterations, we noticed that the best parameters for this model changed.  For example, we started with `cvec__max_features` as 100, 1,000, and 10,000 to cast a wide net.  In the end, the best `cvec__ngram_range` was (1, 2) (which remained throughout various `pipeline` iterations) and `cvec__stop_words` was (interestingly enough) None and `model_penalty` was l1.  As we isolated the `cveec__max_features` the stop words and penalty changed into, eventually, what we have above, with a train `best_score_` of 1.0000 and our test `best_score_` of 0.9238 - meaning two things:\n",
        "1. that our training model was overfit and\n",
        "2. that our test model has a 92% accuracy in predicting which subreddit our `full_post` was sourced from."
      ],
      "metadata": {}
    },
    {
      "cell_type": "markdown",
      "source": [
        "#### - Multinomial Naive Bayes"
      ],
      "metadata": {}
    },
    {
      "cell_type": "markdown",
      "source": [
        "Because out features are variables that take on only positive integer counts (i.e. there are no negative word counts in a post), we will use the MultinomialNB model to see if it outperforms our Baseline."
      ],
      "metadata": {}
    },
    {
      "cell_type": "code",
      "source": [
        "# Define cvec Pipeline\n",
        "pipe = Pipeline(steps = [('cvec', CountVectorizer()),\n",
        "                         ('model', MultinomialNB())])\n",
        "\n",
        "# Construct Grid Parameters\n",
        "hyperparams = {\n",
        "    'cvec__max_features': [5_000, 10_000, 15_000],\n",
        "    'cvec__stop_words':  [None, 'english', new_english],\n",
        "    'cvec__ngram_range': [(1, 2), (1, 1), (2, 2)]}\n",
        "\n",
        "# Perform Grid Search\n",
        "cvec_gs = GridSearchCV(pipe,\n",
        "                       param_grid = hyperparams,\n",
        "                       cv = 5,\n",
        "                       verbose = 3,\n",
        "                       n_jobs = -1)\n",
        "\n",
        "cvec_gs.fit(X_train, y_train)"
      ],
      "outputs": [
        {
          "output_type": "stream",
          "name": "stdout",
          "text": [
            "Fitting 5 folds for each of 27 candidates, totalling 135 fits\n"
          ]
        },
        {
          "output_type": "stream",
          "name": "stderr",
          "text": [
            "[Parallel(n_jobs=-1)]: Using backend LokyBackend with 8 concurrent workers.\n",
            "[Parallel(n_jobs=-1)]: Done  16 tasks      | elapsed:    3.3s\n",
            "[Parallel(n_jobs=-1)]: Done 112 tasks      | elapsed:   17.5s\n",
            "[Parallel(n_jobs=-1)]: Done 135 out of 135 | elapsed:   20.8s finished\n"
          ]
        },
        {
          "output_type": "execute_result",
          "execution_count": 42,
          "data": {
            "text/plain": [
              "GridSearchCV(cv=5, error_score='raise-deprecating',\n",
              "             estimator=Pipeline(memory=None,\n",
              "                                steps=[('cvec',\n",
              "                                        CountVectorizer(analyzer='word',\n",
              "                                                        binary=False,\n",
              "                                                        decode_error='strict',\n",
              "                                                        dtype=<class 'numpy.int64'>,\n",
              "                                                        encoding='utf-8',\n",
              "                                                        input='content',\n",
              "                                                        lowercase=True,\n",
              "                                                        max_df=1.0,\n",
              "                                                        max_features=None,\n",
              "                                                        min_df=1,\n",
              "                                                        ngram_range=(1, 1),\n",
              "                                                        preprocessor=None,\n",
              "                                                        stop_words=None,\n",
              "                                                        strip_accents=None,\n",
              "                                                        tok...\n",
              "                         'cvec__ngram_range': [(1, 2), (1, 1), (2, 2)],\n",
              "                         'cvec__stop_words': [None, 'english',\n",
              "                                              frozenset({'00', '000', '00pm',\n",
              "                                                         '10', '100', '1000',\n",
              "                                                         '10am', '11', '12',\n",
              "                                                         '12th', '13', '14',\n",
              "                                                         '15', '16', '17',\n",
              "                                                         '1700', '18', '180',\n",
              "                                                         '19', '1pm', '1st',\n",
              "                                                         '20', '200', '2004',\n",
              "                                                         '2012', '2015', '2018',\n",
              "                                                         '2019', '20s', '21', ...})]},\n",
              "             pre_dispatch='2*n_jobs', refit=True, return_train_score=False,\n",
              "             scoring=None, verbose=3)"
            ]
          },
          "metadata": {}
        }
      ],
      "execution_count": 42,
      "metadata": {}
    },
    {
      "cell_type": "code",
      "source": [
        "# Get Scores\n",
        "cvec_train_score = cvec_gs.score(X_train, y_train)\n",
        "print('Best train data accuracy for MultinomialNB Model: {:.4f}'.format(cvec_train_score))\n",
        "cvec_test_score = cvec_gs.score(X_test, y_test)\n",
        "print('Best test data accuracy for MultinomialNB Model: {:.4f}'.format(cvec_test_score))"
      ],
      "outputs": [
        {
          "output_type": "stream",
          "name": "stdout",
          "text": [
            "Best train data accuracy for MultinomialNB Model: 0.9970\n",
            "Best test data accuracy for MultinomialNB Model: 0.9686\n"
          ]
        }
      ],
      "execution_count": 43,
      "metadata": {}
    },
    {
      "cell_type": "code",
      "source": [
        "# cvec_gs.best_params_"
      ],
      "outputs": [],
      "execution_count": 44,
      "metadata": {}
    },
    {
      "cell_type": "markdown",
      "source": [
        "Our best parameters for Multinomial NB is as follows:\n",
        "- 'cvec__max_features': 10000,\n",
        "- 'cvec__ngram_range': (1, 1),\n",
        "- 'cvec__stop_words': my stopword list named 'new_english'\n",
        "\n",
        "The reason we are not returning the output of `cvec_gs.best_params_` is because the stopword list itself prints out and not the variable name that was given to it."
      ],
      "metadata": {}
    },
    {
      "cell_type": "markdown",
      "source": [
        "It looks like Multinomial has a set of different `best_params_` than the LogReg (CVec) model - ultimately performing better with a train score of 0.9940 and a test score of 0.9641."
      ],
      "metadata": {}
    },
    {
      "cell_type": "markdown",
      "source": [
        "#### - Logistic Regression (TFIDFVectorizer)"
      ],
      "metadata": {}
    },
    {
      "cell_type": "markdown",
      "source": [
        "Because our dependent variable is binary in nature (`0` or `1` as in \"is this specific word/ combination of words in this post, yes or no (`1` or `0`), we will impliment Logistic Regression to see if our Baseline Model can be beat.  TFIDFVectorizer will breakdown each post into individual words / features AND it will assign values for each word depended on its frequency - the rarer the word, the better."
      ],
      "metadata": {}
    },
    {
      "cell_type": "code",
      "source": [
        "# Define tvec Pipeline\n",
        "pipe = Pipeline(steps = [('tvec', TfidfVectorizer()),\n",
        "                         ('model', LogisticRegression())])\n",
        "\n",
        "# Construct Grid Parameters\n",
        "hyperparams = {\n",
        "    'tvec__max_features': [10_000, 15_000, 20_000],\n",
        "    'tvec__stop_words':  [None, 'english', new_english],\n",
        "    'tvec__ngram_range': [(1, 2), (1, 1), (2, 2)],\n",
        "    'model__penalty': ['l1', 'l2']}\n",
        "\n",
        "# Perform Grid Search\n",
        "tvec_gs = GridSearchCV(pipe,\n",
        "                       param_grid = hyperparams,\n",
        "                       cv = 5,\n",
        "                       verbose = 3,\n",
        "                       n_jobs = -1)\n",
        "\n",
        "tvec_gs.fit(X_train,y_train)"
      ],
      "outputs": [
        {
          "output_type": "stream",
          "name": "stdout",
          "text": [
            "Fitting 5 folds for each of 54 candidates, totalling 270 fits\n"
          ]
        },
        {
          "output_type": "stream",
          "name": "stderr",
          "text": [
            "[Parallel(n_jobs=-1)]: Using backend LokyBackend with 8 concurrent workers.\n",
            "[Parallel(n_jobs=-1)]: Done  16 tasks      | elapsed:    3.4s\n",
            "[Parallel(n_jobs=-1)]: Done 112 tasks      | elapsed:   17.7s\n",
            "[Parallel(n_jobs=-1)]: Done 270 out of 270 | elapsed:   41.5s finished\n",
            "C:\\Users\\Fausto\\Anaconda3\\lib\\site-packages\\sklearn\\linear_model\\logistic.py:432: FutureWarning: Default solver will be changed to 'lbfgs' in 0.22. Specify a solver to silence this warning.\n",
            "  FutureWarning)\n"
          ]
        },
        {
          "output_type": "execute_result",
          "execution_count": 45,
          "data": {
            "text/plain": [
              "GridSearchCV(cv=5, error_score='raise-deprecating',\n",
              "             estimator=Pipeline(memory=None,\n",
              "                                steps=[('tvec',\n",
              "                                        TfidfVectorizer(analyzer='word',\n",
              "                                                        binary=False,\n",
              "                                                        decode_error='strict',\n",
              "                                                        dtype=<class 'numpy.float64'>,\n",
              "                                                        encoding='utf-8',\n",
              "                                                        input='content',\n",
              "                                                        lowercase=True,\n",
              "                                                        max_df=1.0,\n",
              "                                                        max_features=None,\n",
              "                                                        min_df=1,\n",
              "                                                        ngram_range=(1, 1),\n",
              "                                                        norm='l2',\n",
              "                                                        preprocessor=None,\n",
              "                                                        smooth_idf=True,\n",
              "                                                        stop_words...\n",
              "                         'tvec__ngram_range': [(1, 2), (1, 1), (2, 2)],\n",
              "                         'tvec__stop_words': [None, 'english',\n",
              "                                              frozenset({'00', '000', '00pm',\n",
              "                                                         '10', '100', '1000',\n",
              "                                                         '10am', '11', '12',\n",
              "                                                         '12th', '13', '14',\n",
              "                                                         '15', '16', '17',\n",
              "                                                         '1700', '18', '180',\n",
              "                                                         '19', '1pm', '1st',\n",
              "                                                         '20', '200', '2004',\n",
              "                                                         '2012', '2015', '2018',\n",
              "                                                         '2019', '20s', '21', ...})]},\n",
              "             pre_dispatch='2*n_jobs', refit=True, return_train_score=False,\n",
              "             scoring=None, verbose=3)"
            ]
          },
          "metadata": {}
        }
      ],
      "execution_count": 45,
      "metadata": {}
    },
    {
      "cell_type": "code",
      "source": [
        "# Get Scores\n",
        "tvec_train_score = tvec_gs.score(X_train,y_train)\n",
        "print('Best train data accuracy for Logistic Regression using TFIDFVectorizer: {:.4f}'.format(tvec_train_score))\n",
        "tvec_test_score = tvec_gs.score(X_test, y_test)\n",
        "print('Best test data accuracy for Logistic Regression using TFIDFVectorizer: {:.4f}'.format(tvec_test_score))"
      ],
      "outputs": [
        {
          "output_type": "stream",
          "name": "stdout",
          "text": [
            "Best train data accuracy for Logistic Regression using TFIDFVectorizer: 0.9985\n",
            "Best test data accuracy for Logistic Regression using TFIDFVectorizer: 0.9462\n"
          ]
        }
      ],
      "execution_count": 46,
      "metadata": {}
    },
    {
      "cell_type": "code",
      "source": [
        "# tvec_gs.best_params_"
      ],
      "outputs": [],
      "execution_count": 47,
      "metadata": {}
    },
    {
      "cell_type": "markdown",
      "source": [
        "Our best parameters for the TFIDFVectorizer pipeline was the following:\n",
        "- 'model__penalty': 'l2',\n",
        "- 'tvec__max_features': 15000,\n",
        "- 'tvec__ngram_range': (1, 2),\n",
        "- 'tvec__stop_words': my stopword list named 'new_english'\n",
        "\n",
        "The reason we are not returning the output of `tvec_gs.best_params_` is because the stopword list itself prints out and not the variable name that was given to it."
      ],
      "metadata": {}
    },
    {
      "cell_type": "markdown",
      "source": [
        "As with the MultinomialNB model, we have a set of different `best_params_`, which resulted in a train score of 0.9985 and test score of 0.9462.  While ovefit, it is not as severe as the LogReg (CVec)'s overfitting."
      ],
      "metadata": {}
    },
    {
      "cell_type": "markdown",
      "source": [
        "#### - Gaussian Naive Bayes"
      ],
      "metadata": {}
    },
    {
      "cell_type": "markdown",
      "source": [
        "Because TFIDFVectorizer penalizes common words and rewards rare words, the distribution of words is somewhat (but not completely) normalized.  Becuase of this, we will use the GaussianNB model to see if it outperforms our Baseline (or any other) model."
      ],
      "metadata": {}
    },
    {
      "cell_type": "markdown",
      "source": [
        "In order to work witn the GaussianNB model, we need to convert our sparse matrix into a dense matrix."
      ],
      "metadata": {}
    },
    {
      "cell_type": "code",
      "source": [
        "## https://stackoverflow.com/questions/28384680/scikit-learns-pipeline-a-sparse-matrix-was-passed-but-dense-data-is-required\n",
        "## Transformer class to convert sparse matrix to dense matrix\n",
        "class DenseTransformer():\n",
        "    def fit(self, X, y=None, **fit_params):\n",
        "        return self\n",
        "    def transform(self, X, y=None, **fit_params):\n",
        "        return X.todense()"
      ],
      "outputs": [],
      "execution_count": 48,
      "metadata": {}
    },
    {
      "cell_type": "code",
      "source": [
        "# Define tvec Pipeline\n",
        "pipe = Pipeline(steps = [('cvec', TfidfVectorizer()),\n",
        "                         ('dense',DenseTransformer()),\n",
        "                         ('model', GaussianNB())])\n",
        "\n",
        "# Construct Grid Parameters\n",
        "hyperparams = {\n",
        "    'cvec__max_features': [5_000, 10_000, 15_000],\n",
        "    'cvec__stop_words':  [None, 'english', new_english],\n",
        "    'cvec__ngram_range': [(1, 2), (1, 1), (2, 2)]}\n",
        "\n",
        "# Perform Grid Search\n",
        "tvec_gs = GridSearchCV(pipe,\n",
        "                       param_grid = hyperparams,\n",
        "                       cv = 5,\n",
        "                       verbose = 3,\n",
        "                       n_jobs = -1)\n",
        "\n",
        "tvec_gs.fit(X_train, y_train)"
      ],
      "outputs": [
        {
          "output_type": "stream",
          "name": "stdout",
          "text": [
            "Fitting 5 folds for each of 27 candidates, totalling 135 fits\n"
          ]
        },
        {
          "output_type": "stream",
          "name": "stderr",
          "text": [
            "[Parallel(n_jobs=-1)]: Using backend LokyBackend with 8 concurrent workers.\n",
            "[Parallel(n_jobs=-1)]: Done  16 tasks      | elapsed:    3.6s\n",
            "[Parallel(n_jobs=-1)]: Done 112 tasks      | elapsed:   21.5s\n",
            "[Parallel(n_jobs=-1)]: Done 135 out of 135 | elapsed:   25.6s finished\n"
          ]
        },
        {
          "output_type": "execute_result",
          "execution_count": 49,
          "data": {
            "text/plain": [
              "GridSearchCV(cv=5, error_score='raise-deprecating',\n",
              "             estimator=Pipeline(memory=None,\n",
              "                                steps=[('cvec',\n",
              "                                        TfidfVectorizer(analyzer='word',\n",
              "                                                        binary=False,\n",
              "                                                        decode_error='strict',\n",
              "                                                        dtype=<class 'numpy.float64'>,\n",
              "                                                        encoding='utf-8',\n",
              "                                                        input='content',\n",
              "                                                        lowercase=True,\n",
              "                                                        max_df=1.0,\n",
              "                                                        max_features=None,\n",
              "                                                        min_df=1,\n",
              "                                                        ngram_range=(1, 1),\n",
              "                                                        norm='l2',\n",
              "                                                        preprocessor=None,\n",
              "                                                        smooth_idf=True,\n",
              "                                                        stop_words...\n",
              "                         'cvec__ngram_range': [(1, 2), (1, 1), (2, 2)],\n",
              "                         'cvec__stop_words': [None, 'english',\n",
              "                                              frozenset({'00', '000', '00pm',\n",
              "                                                         '10', '100', '1000',\n",
              "                                                         '10am', '11', '12',\n",
              "                                                         '12th', '13', '14',\n",
              "                                                         '15', '16', '17',\n",
              "                                                         '1700', '18', '180',\n",
              "                                                         '19', '1pm', '1st',\n",
              "                                                         '20', '200', '2004',\n",
              "                                                         '2012', '2015', '2018',\n",
              "                                                         '2019', '20s', '21', ...})]},\n",
              "             pre_dispatch='2*n_jobs', refit=True, return_train_score=False,\n",
              "             scoring=None, verbose=3)"
            ]
          },
          "metadata": {}
        }
      ],
      "execution_count": 49,
      "metadata": {}
    },
    {
      "cell_type": "code",
      "source": [
        "# Get Scores\n",
        "tvec_train_score = tvec_gs.score(X_train, y_train)\n",
        "print('Best train data accuracy for GaussianNB Model: {:.4f}'.format(tvec_train_score))\n",
        "tvec_test_score = tvec_gs.score(X_test, y_test)\n",
        "print('Best test data accuracy for GaussianNB Model: {:.4f}'.format(tvec_test_score))"
      ],
      "outputs": [
        {
          "output_type": "stream",
          "name": "stdout",
          "text": [
            "Best train data accuracy for GaussianNB Model: 0.9970\n",
            "Best test data accuracy for GaussianNB Model: 0.9686\n"
          ]
        }
      ],
      "execution_count": 50,
      "metadata": {}
    },
    {
      "cell_type": "code",
      "source": [
        "# tvec_gs.best_params_"
      ],
      "outputs": [],
      "execution_count": 51,
      "metadata": {}
    },
    {
      "cell_type": "markdown",
      "source": [
        "Our best parameters for the TFIDFVectorizer pipeline was the following:\n",
        "- 'tvec__max_features': 10000,\n",
        "- 'tvec__ngram_range': (1, 1),\n",
        "- 'tvec__stop_words': my stopword list named 'new_english'\n",
        "\n",
        "The reason we are not returning the output of `tvec_gs.best_params_` is because the stopword list itself prints out and not the variable name that was given to it."
      ],
      "metadata": {}
    },
    {
      "cell_type": "markdown",
      "source": [
        "### 05.03. Modeling Conclusion"
      ],
      "metadata": {}
    },
    {
      "cell_type": "markdown",
      "source": [
        "Let's take a look at the results of all models simultaneously."
      ],
      "metadata": {}
    },
    {
      "cell_type": "code",
      "source": [
        "# initialize list of lists \n",
        "data = [[0.5000, 0.5000],\n",
        "        [1.0000, 0.9238],\n",
        "        [0.9940, 0.9641],\n",
        "        [0.9985, 0.9462],\n",
        "        [0.9985, 0.9731]] \n",
        "  \n",
        "# Create the pandas DataFrame \n",
        "df = pd.DataFrame(data,\n",
        "                  columns = ['Train Score', 'Test Score'],\n",
        "                  index = ['Baseline', 'LogReg (CVec)', 'MultinomialNB', 'LogReg (TFIDFVec)', 'GaussianNB']) \n",
        "  \n",
        "# print dataframe. \n",
        "df "
      ],
      "outputs": [
        {
          "output_type": "execute_result",
          "execution_count": 52,
          "data": {
            "text/html": [
              "<div>\n",
              "<style scoped>\n",
              "    .dataframe tbody tr th:only-of-type {\n",
              "        vertical-align: middle;\n",
              "    }\n",
              "\n",
              "    .dataframe tbody tr th {\n",
              "        vertical-align: top;\n",
              "    }\n",
              "\n",
              "    .dataframe thead th {\n",
              "        text-align: right;\n",
              "    }\n",
              "</style>\n",
              "<table border=\"1\" class=\"dataframe\">\n",
              "  <thead>\n",
              "    <tr style=\"text-align: right;\">\n",
              "      <th></th>\n",
              "      <th>Train Score</th>\n",
              "      <th>Test Score</th>\n",
              "    </tr>\n",
              "  </thead>\n",
              "  <tbody>\n",
              "    <tr>\n",
              "      <td>Baseline</td>\n",
              "      <td>0.5000</td>\n",
              "      <td>0.5000</td>\n",
              "    </tr>\n",
              "    <tr>\n",
              "      <td>LogReg (CVec)</td>\n",
              "      <td>1.0000</td>\n",
              "      <td>0.9238</td>\n",
              "    </tr>\n",
              "    <tr>\n",
              "      <td>MultinomialNB</td>\n",
              "      <td>0.9940</td>\n",
              "      <td>0.9641</td>\n",
              "    </tr>\n",
              "    <tr>\n",
              "      <td>LogReg (TFIDFVec)</td>\n",
              "      <td>0.9985</td>\n",
              "      <td>0.9462</td>\n",
              "    </tr>\n",
              "    <tr>\n",
              "      <td>GaussianNB</td>\n",
              "      <td>0.9985</td>\n",
              "      <td>0.9731</td>\n",
              "    </tr>\n",
              "  </tbody>\n",
              "</table>\n",
              "</div>"
            ],
            "text/plain": [
              "                   Train Score  Test Score\n",
              "Baseline                0.5000      0.5000\n",
              "LogReg (CVec)           1.0000      0.9238\n",
              "MultinomialNB           0.9940      0.9641\n",
              "LogReg (TFIDFVec)       0.9985      0.9462\n",
              "GaussianNB              0.9985      0.9731"
            ]
          },
          "metadata": {}
        }
      ],
      "execution_count": 52,
      "metadata": {}
    },
    {
      "cell_type": "markdown",
      "source": [
        "After gathering, cleaning and performing some exploratory analysis, we were able to transform and fit our data in 5 seperate models.  The Baseline score was the from where we began and with each new model implemented, our goal was to beat the baseline (thus concluding that the model would outperform the baseline and predict, more accurately, from which subreddit a post came from.\n",
        "\n",
        "While all 4 models did out perform the baseline, our best model was **Gaussian Naive Bayes**.  GaussianNB had less of an overfit than all other models and while its training score was somewhat in the middle, it's test score was the highest.  In addition, GaussianNB ahd the smallest difference between its train and test scores (hence the smaller overfit)."
      ],
      "metadata": {}
    }
  ],
  "metadata": {
    "kernelspec": {
      "display_name": "Python 3",
      "language": "python",
      "name": "python3"
    },
    "language_info": {
      "codemirror_mode": {
        "name": "ipython",
        "version": 3
      },
      "file_extension": ".py",
      "mimetype": "text/x-python",
      "name": "python",
      "nbconvert_exporter": "python",
      "pygments_lexer": "ipython3",
      "version": "3.7.3"
    },
    "nteract": {
      "version": "0.15.0"
    }
  },
  "nbformat": 4,
  "nbformat_minor": 4
}